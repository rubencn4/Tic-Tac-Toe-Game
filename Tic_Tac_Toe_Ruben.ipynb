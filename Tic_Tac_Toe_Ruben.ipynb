{
 "cells": [
  {
   "cell_type": "markdown",
   "metadata": {},
   "source": [
    "# Tic Tac Toe\n",
    "---\n",
    "\n",
    "# Rubén Cuervo"
   ]
  },
  {
   "cell_type": "markdown",
   "metadata": {},
   "source": [
    "### Step 1: Definition of a data entry function"
   ]
  },
  {
   "cell_type": "markdown",
   "metadata": {},
   "source": [
    "> The `ask_integer` function asks for an integer value on the keyboard, giving the text that is received as a question.\n",
    "If the value is greater than the minimum value or smaller than the maximum one, it will be re-requested. When a value is given in the acceptable range, it is returned."
   ]
  },
  {
   "cell_type": "code",
   "execution_count": 1,
   "metadata": {},
   "outputs": [
    {
     "name": "stdout",
     "output_type": "stream",
     "text": [
      "Enter an integer value between 1 and 3\n",
      "1\n"
     ]
    },
    {
     "data": {
      "text/plain": [
       "1"
      ]
     },
     "execution_count": 1,
     "metadata": {},
     "output_type": "execute_result"
    }
   ],
   "source": [
    "def ask_integer(text,min,max):\n",
    "    c=0  # We will create a counter that when we write a correct value, the program ends\n",
    "    while c<1:\n",
    "        print(text)\n",
    "        n=int(input())\n",
    "        if n>=min and n<=max:\n",
    "            return n \n",
    "            c=c+1\n",
    "        else:\n",
    "            print(\"Value must be between\",min,\"i\", max)\n",
    "        \n",
    "ask_integer(\"Enter an integer value between 1 and 3\",1,3)"
   ]
  },
  {
   "cell_type": "markdown",
   "metadata": {},
   "source": [
    "### Step 2: Initialization of the window"
   ]
  },
  {
   "cell_type": "markdown",
   "metadata": {},
   "source": [
    "> We will implement a function that initializes the graphical game window with `Tkinter`. The window I have created will be set in space, and therefore, it will be dark with randomly allocated stars."
   ]
  },
  {
   "cell_type": "code",
   "execution_count": 2,
   "metadata": {},
   "outputs": [],
   "source": [
    "def ini_window():\n",
    "    import tkinter as t\n",
    "    import random as r\n",
    "    global root \n",
    "    root = t.Tk()\n",
    "    # We define the canvas\n",
    "    window = t.Canvas(root,borderwidth = 20, # thickness of the frame not drawn\n",
    "                        background = 'gray10', # background color\n",
    "                        cursor = 'hand2', # cursor shape\n",
    "                        height=600, # canvas 600x600 pixels\n",
    "                        width=600)\n",
    "    def stars(x,y,diameter): # We define the stars as round white circles\n",
    "        window.create_oval(x,y,x+diameter,y+diameter,fill=\"white\")\n",
    "    for i in range(40): # We draw 40 stars with a For loop\n",
    "        stars(r.randint(75,525),r.randint(75,525),r.randint(0,3))      \n",
    "    window.pack() \n",
    "    return window\n",
    "window=ini_window()\n",
    "window.mainloop()"
   ]
  },
  {
   "cell_type": "markdown",
   "metadata": {},
   "source": [
    "### Step 3. Tracing of the grid"
   ]
  },
  {
   "cell_type": "markdown",
   "metadata": {},
   "source": [
    "> The `ini_grid` function will draw a 3X3 grid with the help of two `for` loops (one will draw the vertical lines and the other the horizontal lines). The size of the grid squares will be 150 pixels by 150 pixels."
   ]
  },
  {
   "cell_type": "code",
   "execution_count": 3,
   "metadata": {},
   "outputs": [],
   "source": [
    "window=ini_window() # We need to call the window function\n",
    "def ini_grid():\n",
    "    # Firstly we create the horizontal lines\n",
    "    yhor=75\n",
    "    for i in range (4):\n",
    "        window.create_line(75,yhor,525,yhor,width=3,fill=\"white\")\n",
    "        yhor=yhor+150\n",
    "    # Now we create the vertical lines\n",
    "    xver=75\n",
    "    for i in range(4):\n",
    "        window.create_line(xver,75,xver,525,width=3,fill=\"white\")\n",
    "        xver=xver+150\n",
    "        \n",
    "ini_grid() \n",
    "window.mainloop() "
   ]
  },
  {
   "cell_type": "markdown",
   "metadata": {},
   "source": [
    "### Step 4. Checking the box"
   ]
  },
  {
   "cell_type": "markdown",
   "metadata": {},
   "source": [
    "> The `box_mark` function will mark the selected box with a circle. This circle will be Greenyellow in the case of player 1 and Coral in the case of player 2. In this case, we will give the information with an input, but in the real game, we will give the information by the place where we click on the screen."
   ]
  },
  {
   "cell_type": "code",
   "execution_count": 4,
   "metadata": {},
   "outputs": [
    {
     "name": "stdout",
     "output_type": "stream",
     "text": [
      "Row number: \n",
      "1\n",
      "Column number: \n",
      "1\n",
      "Player: \n",
      "1\n"
     ]
    }
   ],
   "source": [
    "window=ini_window()\n",
    "ini_grid()\n",
    "\n",
    "# We ask for values with the function we created earlier:\n",
    "nrowp=ask_integer(\"Row number: \",1,3)\n",
    "ncolumnp=ask_integer(\"Column number: \",1,3)\n",
    "playerp=ask_integer(\"Player: \",1,2)\n",
    "\n",
    "# We create the function\n",
    "def box_mark(nrow,ncolumn,nplayer,window):\n",
    "    # 1st we define the color of the circle:\n",
    "    def color(nplayer):\n",
    "        if nplayer==1:\n",
    "            return \"greenyellow\"\n",
    "        elif nplayer==2:\n",
    "            return \"coral\"\n",
    "    color=color(nplayer)\n",
    "    # Now we define where the circle will be drawn depending on the row and the column where we click:\n",
    "    xin=75\n",
    "    \n",
    "    # First row\n",
    "    if nrow==1:\n",
    "        cont1=1 \n",
    "        \n",
    "        ''' When the counter is set to 1, it will draw the circle in the first column, when the\n",
    "         counter is set to 2 at the second one and when it is set to three at the third column'''\n",
    "        while cont1<ncolumn:\n",
    "            xin=xin+150\n",
    "            cont1=cont1+1\n",
    "        window.create_oval(xin+10,75+10,xin+150-10,225-10,width=2,fill=color)\n",
    "        \n",
    "    #Second row:\n",
    "    elif nrow==2:\n",
    "        cont2=1 \n",
    "        while cont2<ncolumn:\n",
    "            xin=xin+150\n",
    "            cont2=cont2+1\n",
    "        window.create_oval(xin+10,225+10,xin+150-10,375-10,width=2,fill=color)\n",
    "        \n",
    "    #Third row:\n",
    "    elif nrow==3:\n",
    "        xin=75\n",
    "        cont3=1 \n",
    "        while cont3<ncolumn:\n",
    "            xin=xin+150\n",
    "            cont3=cont3+1\n",
    "        window.create_oval(xin+10,375+10,xin+150-10,525-10,width=2,fill=color)\n",
    "        \n",
    "box_mark(nrowp,ncolumnp,playerp,window)        \n",
    "window.mainloop() "
   ]
  },
  {
   "cell_type": "markdown",
   "metadata": {},
   "source": [
    "> We will now define the `box_position` function. This function will determine the number of rows and columns depending on the location of the board where we click. `x` and` y` are the mouse click coordinates."
   ]
  },
  {
   "cell_type": "code",
   "execution_count": 5,
   "metadata": {},
   "outputs": [],
   "source": [
    "def box_position(x,y):\n",
    "    c=0 # We create the counter\n",
    "    yin=75\n",
    "    xin=75\n",
    "    nrow=1\n",
    "    ncol=1\n",
    "    while c<1:\n",
    "        if y>yin and y<yin+150:\n",
    "            for i in range(3):\n",
    "                if x>xin and x<xin+150:\n",
    "                    ncol=ncol\n",
    "                    c=c+1\n",
    "                else:\n",
    "                    xin=xin+150\n",
    "                    ncol=ncol+1\n",
    "        else:\n",
    "            nrow=nrow+1\n",
    "            yin=yin+150\n",
    "\n",
    "    if y<75 or y>525 or x<75 or x>525: # If we get out, we communicate that the row and column are 0 (Invalid value)\n",
    "        nrow=0\n",
    "        ncol=0\n",
    "        \n",
    "    return [nrow,ncol] #We return a list with the row and column."
   ]
  },
  {
   "cell_type": "markdown",
   "metadata": {},
   "source": [
    "### Step 5. Basic game control"
   ]
  },
  {
   "cell_type": "markdown",
   "metadata": {},
   "source": [
    "> We put together all the functions we have created to perform the tic tac toe game. \n",
    "Moreover:\n",
    ">1. We will define a new global variable called `dashboard` which is a 3x3 size list. This list will represent the board; if an item in the list contains 0 it means that the box is empty; if it contains 1 it means that it contains a tile of the first player, and if it contains 2 a tile of the second player\n",
    ">2. When a click is detected, the `game_control ()` function will calculate which box is marked and check the status of the dashboard. If it is empty, it is marked in the window with the color that corresponds and the dashboard item is updated with the player's number. If it is full, a message is printed to console and the play is not allowed."
   ]
  },
  {
   "cell_type": "code",
   "execution_count": 6,
   "metadata": {},
   "outputs": [],
   "source": [
    "import tkinter\n",
    "plays=0 \n",
    "dashboard=[[0,0,0],[0,0,0],[0,0,0]]\n",
    "window=ini_window()\n",
    "def game_control(event):\n",
    "    global plays\n",
    "    global window\n",
    "    window.create_rectangle(100,10,500,70,fill=\"gray10\",width=0)\n",
    "    plays=plays+1\n",
    "    rows_and_cols=box_position(event.x,event.y)\n",
    "    nrow=rows_and_cols[0]\n",
    "    ncol=rows_and_cols[1]\n",
    "    player=plays%2\n",
    "    if player==0:\n",
    "        player=2\n",
    "    else:\n",
    "        player=1\n",
    "\n",
    "    if nrow==0 or ncol==0:\n",
    "        plays=plays-1 \n",
    "        window.create_text(300,40,text=\"End of the game\",fill=\"white\",font=\"Fixedsys  12\")\n",
    "        \n",
    "    else:\n",
    "        if dashboard[nrow-1][ncol-1]==0:\n",
    "            dashboard[nrow-1][ncol-1]=player\n",
    "            # If the box is empty, we print the number of the player who occupied it on the dashboard.\n",
    "            box_mark(nrow,ncol,player,window)\n",
    "        else:# If it has a 1 or a 2, it means the box is occupied.\n",
    "            txtcl=\"Box occupied by Player \"+str(dashboard[nrow-1][ncol-1])\n",
    "            window.create_text(300,40,text=txtcl,fill=\"white\",font=\"Fixedsys  12\")\n",
    "            plays=plays-1 # The play is repeated\n",
    "    \n",
    "    if plays>=9:\n",
    "        window.create_text(300,600,text=\"End of the game\",fill=\"White\",font=\"Fixedsys  20\")\n",
    "        window.unbind('<ButtonRelease-1>')\n",
    "\n",
    "        \n",
    "ini_grid()\n",
    "window.bind('<ButtonRelease-1>',game_control)\n",
    "root.mainloop()"
   ]
  },
  {
   "cell_type": "markdown",
   "metadata": {},
   "source": [
    "## Final improvement"
   ]
  },
  {
   "cell_type": "markdown",
   "metadata": {},
   "source": [
    "We will improve the previous function so that in each step we check if any “three-in-a-row”. If it occurs, a message is printed with the winning player's number and the game ends.\n",
    "> Now we define the `victory` function. This feature will tell us if player 1 or player 2 has won. It will do so using the `dashboard` feature we created earlier."
   ]
  },
  {
   "cell_type": "code",
   "execution_count": 7,
   "metadata": {},
   "outputs": [],
   "source": [
    "def victory(player):\n",
    "    # Let's see if there is any “three-in-a-row” in the rows\n",
    "    a=0\n",
    "    b=0\n",
    "    for i in range(3):\n",
    "        if dashboard[a][b]==player and dashboard[a][b+1]==player and dashboard[a][b+2]==player:\n",
    "            window.create_text(300,550,text=\"Victory of Player \"+str(player),fill=\"white\",font=\"Fixedsys  15\")\n",
    "            window.create_text(300,600,text=\"End of the game\",fill=\"White\",font=\"Fixedsys  20\")\n",
    "            window.unbind('<ButtonRelease-1>')\n",
    "        a=a+1   \n",
    "    # Let's see if there is any “three-in-a-row” in the columns\n",
    "    c=0\n",
    "    d=0\n",
    "    for i in range(3):\n",
    "        if dashboard[c][d]==player and dashboard[c+1][d]==player and dashboard[c+2][d]==player:\n",
    "            window.create_text(300,550,text=\"Victory of Player \"+str(player),fill=\"white\",font=\"Fixedsys  15\")\n",
    "            window.create_text(300,600,text=\"End of the game\",fill=\"White\",font=\"Fixedsys  20\")\n",
    "            window.unbind('<ButtonRelease-1>')\n",
    "        d=d+1   \n",
    "    # Let's see if there is any “three-in-a-row” in the diagonals\n",
    "    if dashboard[0][0]==player and dashboard[1][1]==player and dashboard[2][2]==player:\n",
    "        window.create_text(300,550,text=\"Victory of Player \"+str(player),fill=\"white\",font=\"Fixedsys  15\")\n",
    "        window.create_text(300,600,text=\"End of the game\",fill=\"White\",font=\"Fixedsys  20\")\n",
    "        window.unbind('<ButtonRelease-1>')\n",
    "    if dashboard[0][2]==player and dashboard[1][1]==player and dashboard[2][0]==player:\n",
    "        window.create_text(300,550,text=\"Victory of Player \"+str(player),fill=\"white\",font=\"Fixedsys  15\")\n",
    "        window.create_text(300,600,text=\"End of the game\",fill=\"White\",font=\"Fixedsys  20\")\n",
    "        window.unbind('<ButtonRelease-1>')    "
   ]
  },
  {
   "cell_type": "markdown",
   "metadata": {},
   "source": [
    "# Tic Tac Toe game"
   ]
  },
  {
   "cell_type": "code",
   "execution_count": 8,
   "metadata": {},
   "outputs": [],
   "source": [
    "import tkinter\n",
    "plays=0 \n",
    "dashboard=[[0,0,0],[0,0,0],[0,0,0]]\n",
    "window=ini_window()\n",
    "def game_control(event):\n",
    "    global plays\n",
    "    global window\n",
    "    window.create_rectangle(100,10,500,70,fill=\"gray10\",width=0)\n",
    "    plays=plays+1\n",
    "    rows_and_cols=box_position(event.x,event.y)\n",
    "    nrow=rows_and_cols[0]\n",
    "    ncol=rows_and_cols[1]\n",
    "    player=plays%2\n",
    "    if player==0:\n",
    "        player=2\n",
    "    else:\n",
    "        player=1\n",
    "\n",
    "    if nrow==0 or ncol==0:\n",
    "        plays=plays-1 # If they do not touch the board, the play will not be counted\n",
    "        window.create_text(300,40,text=\"Click on the board!\",fill=\"white\",font=\"Fixedsys  12\")\n",
    "        \n",
    "    else:\n",
    "        if dashboard[nrow-1][ncol-1]==0:\n",
    "            #If the box is empty, we print the number of the player who occupied it on the dashboard.\n",
    "            box_mark(nrow,ncol,player,window)\n",
    "            dashboard[nrow-1][ncol-1]=player \n",
    "            victory(player)\n",
    "        else:#If you have a 1 or a 2, it means the box is busy.\n",
    "            txtcl=\"Box occupied by Player \"+str(dashboard[nrow-1][ncol-1])\n",
    "            window.create_text(300,40,text=txtcl,fill=\"white\",font=\"Fixedsys  12\")\n",
    "            plays=plays-1\n",
    "    \n",
    "    if plays>=9:\n",
    "        window.create_text(300,600,text=\"End of the game\",fill=\"White\",font=\"Fixedsys  20\")\n",
    "        window.unbind('<ButtonRelease-1>')\n",
    "\n",
    "        \n",
    "ini_grid()\n",
    "window.bind('<ButtonRelease-1>',game_control) \n",
    "root.mainloop()"
   ]
  }
 ],
 "metadata": {
  "kernelspec": {
   "display_name": "Python 3",
   "language": "python",
   "name": "python3"
  },
  "language_info": {
   "codemirror_mode": {
    "name": "ipython",
    "version": 3
   },
   "file_extension": ".py",
   "mimetype": "text/x-python",
   "name": "python",
   "nbconvert_exporter": "python",
   "pygments_lexer": "ipython3",
   "version": "3.8.8"
  }
 },
 "nbformat": 4,
 "nbformat_minor": 2
}
